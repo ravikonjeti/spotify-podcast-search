{
 "cells": [
  {
   "cell_type": "code",
   "execution_count": 1,
   "metadata": {},
   "outputs": [],
   "source": [
    "from youtube_transcript_api import YouTubeTranscriptApi\n",
    "import pandas as pd\n",
    "import nltk\n",
    "from nltk.tokenize import word_tokenize\n",
    "from nltk.probability import FreqDist\n",
    "import re\n",
    "from youtube_api import YouTubeDataAPI\n",
    "import csv"
   ]
  },
  {
   "cell_type": "code",
   "execution_count": 2,
   "metadata": {},
   "outputs": [],
   "source": [
    "#create a search function for a keyword\n",
    "def searchEpisode(key, idNum):\n",
    "    \n",
    "    rawCap = YouTubeTranscriptApi.get_transcript(idNum)\n",
    "    df = pd.DataFrame(rawCap)\n",
    "    \n",
    "    txtList = []\n",
    "    for line in df['text']:\n",
    "        txtList.append(word_tokenize(line.lower()))\n",
    "\n",
    "    df['text_analyzed'] = txtList\n",
    "    \n",
    "    key = key.lower()\n",
    "    char = ',./\\|;: '\n",
    "    searchList = []\n",
    "    count = 0\n",
    "    \n",
    "    fullString = re.sub('[^A-Za-z0-9]+', ' ', key)\n",
    "    cutString = fullString.split()\n",
    "    \n",
    "    for keyword in cutString:\n",
    "        for sentence, start in zip(df['text_analyzed'], df['start']):\n",
    "            if all(word in sentence for word in cutString):\n",
    "            #if (keyword in title) or (keyword in desc):\n",
    "                count = count + 1\n",
    "                searchList.append(start)\n",
    "        df3 = pd.DataFrame()\n",
    "        for item in searchList:\n",
    "            line = df[df['start'] == item]\n",
    "            df3 = df3.append(line)\n",
    "        return df3"
   ]
  },
  {
   "cell_type": "code",
   "execution_count": null,
   "metadata": {},
   "outputs": [],
   "source": []
  },
  {
   "cell_type": "code",
   "execution_count": 3,
   "metadata": {},
   "outputs": [],
   "source": [
    "def searchPlaylist(playlistID, key):\n",
    "    creds = open('creds.csv', 'r').read()\n",
    "    api_key = creds.split(',')[4]    \n",
    "    yt = YouTubeDataAPI(api_key)\n",
    "    \n",
    "    ids = yt.get_videos_from_playlist_id(playlistID)\n",
    "    videoIDs = []\n",
    "    for dc in ids:\n",
    "        videoIDs.append(dc['video_id'])\n",
    "    rawCap = YouTubeTranscriptApi.get_transcript(videoIDs)\n",
    "    df = pd.DataFrame(rawCap)\n",
    "    \n",
    "    return df"
   ]
  },
  {
   "cell_type": "code",
   "execution_count": null,
   "metadata": {},
   "outputs": [],
   "source": []
  }
 ],
 "metadata": {
  "kernelspec": {
   "display_name": "Python 3",
   "language": "python",
   "name": "python3"
  },
  "language_info": {
   "codemirror_mode": {
    "name": "ipython",
    "version": 3
   },
   "file_extension": ".py",
   "mimetype": "text/x-python",
   "name": "python",
   "nbconvert_exporter": "python",
   "pygments_lexer": "ipython3",
   "version": "3.7.6"
  }
 },
 "nbformat": 4,
 "nbformat_minor": 4
}
